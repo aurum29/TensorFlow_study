{
  "nbformat": 4,
  "nbformat_minor": 0,
  "metadata": {
    "colab": {
      "name": "tensorflow_autodiff.ipynb",
      "provenance": [],
      "collapsed_sections": [],
      "authorship_tag": "ABX9TyP56PyemNco1SqTDmdNHYPr",
      "include_colab_link": true
    },
    "kernelspec": {
      "name": "python3",
      "display_name": "Python 3"
    },
    "language_info": {
      "name": "python"
    }
  },
  "cells": [
    {
      "cell_type": "markdown",
      "metadata": {
        "id": "view-in-github",
        "colab_type": "text"
      },
      "source": [
        "<a href=\"https://colab.research.google.com/github/zombe962/TensorFlow_study/blob/main/tensorflow_autodiff.ipynb\" target=\"_parent\"><img src=\"https://colab.research.google.com/assets/colab-badge.svg\" alt=\"Open In Colab\"/></a>"
      ]
    },
    {
      "cell_type": "markdown",
      "source": [
        "# Tensorflow 학습 - 자동 미분(Automatic differentiation)\n",
        "\n",
        "2022.02.28\n",
        "\n",
        "https://www.tensorflow.org/guide/autodiff"
      ],
      "metadata": {
        "id": "7swW07RYL6Tm"
      }
    },
    {
      "cell_type": "markdown",
      "source": [
        "자동 미분 및 그래디언트(Automatic Differentiation and Gradients)\n",
        "\n",
        "[자동 미분](https://en.wikipedia.org/wiki/Automatic_differentiation)은 신경망 학습을 위한 [역전파](https://en.wikipedia.org/wiki/Backpropagation)와 같은 머신러닝 알고리즘을 구현하는 데 유용하다.\n",
        "\n",
        "이 가이드에서는 특히 즉시 실행(eager execution)에서 TensorFlow로 그래디언트를 계산하는 방법을 알아본다."
      ],
      "metadata": {
        "id": "odMSpBO7MHbi"
      }
    },
    {
      "cell_type": "markdown",
      "source": [
        "# 설정(Setup)"
      ],
      "metadata": {
        "id": "LhS78btwMn-S"
      }
    },
    {
      "cell_type": "code",
      "execution_count": 2,
      "metadata": {
        "id": "agLAsLTyLutA"
      },
      "outputs": [],
      "source": [
        "import numpy as np\n",
        "import matplotlib.pyplot as plt\n",
        "\n",
        "import tensorflow as tf"
      ]
    },
    {
      "cell_type": "markdown",
      "source": [
        "# 그래디언트 계산하기(Computing gradients)\n",
        "\n",
        "자동으로 미분하기 위해 TensorFlow는 *정방향 패스* 동안 어떤 연산이 어떤 순서로 발생하는지 기억한다. 그런 다음 *역방향 패스* 동안 TensorFlow는 이 연산 목록을 역순으로 이동하여 그래디언트를 계산한다."
      ],
      "metadata": {
        "id": "ymCpy39sMzM6"
      }
    },
    {
      "cell_type": "markdown",
      "source": [
        "# 그래디언트 테이프(Gradient tapes)\n",
        "\n",
        "텐서플로는 자동 미분(주어진 입력 변수에 대한 연산의 그래디언트(gradient)를 계산하는 것을 위한 tf.GradientTape API를 제공한다. tf.GradientTape는 컨텍스트(context) 안에서 실행된 모든 연산을 테이프(tape)에 '기록'한다. 그 다음 텐서플로는 [후진 방식 자동 미분(reverse mode differentiation)](https://en.wikipedia.org/wiki/Automatic_differentiation)을 사용해 테이프에 '기록된' 연산의 그래디언트를 계산한다.\n",
        "\n",
        "예를 들면:"
      ],
      "metadata": {
        "id": "93TP-jtONIpG"
      }
    },
    {
      "cell_type": "code",
      "source": [
        "x = tf.Variable(3.0)\n",
        "\n",
        "with tf.GradientTape() as tape:\n",
        "  y = x**2"
      ],
      "metadata": {
        "id": "jdkxZJv_Mygq"
      },
      "execution_count": 3,
      "outputs": []
    },
    {
      "cell_type": "markdown",
      "source": [
        "일부 연산을 기록한 후에는 GradientTape.gradient(target, sources)를 사용하여 일부 소스(종종 모델 변수)에 상대적인 일부 대상(종종 손실)의 그래디언트를 계산한다."
      ],
      "metadata": {
        "id": "eKUalD9MxHRa"
      }
    },
    {
      "cell_type": "code",
      "source": [
        "# dy = 2x * dx\n",
        "dy_dx = tape.gradient(y, x)\n",
        "dy_dx.numpy()"
      ],
      "metadata": {
        "colab": {
          "base_uri": "https://localhost:8080/"
        },
        "id": "iCqwfKZcthwU",
        "outputId": "8ad00b48-44b6-4d75-f45a-e749263a5386"
      },
      "execution_count": 6,
      "outputs": [
        {
          "output_type": "execute_result",
          "data": {
            "text/plain": [
              "6.0"
            ]
          },
          "metadata": {},
          "execution_count": 6
        }
      ]
    },
    {
      "cell_type": "markdown",
      "source": [
        "위의 예제는 스칼라를 사용하지만, tf.GradientTape는 모든 텐서에서 쉽게 작동한다."
      ],
      "metadata": {
        "id": "FHvsV6Pqvh4J"
      }
    },
    {
      "cell_type": "code",
      "source": [
        "w = tf.Variable(tf.random.normal((3, 2)), name='w')\n",
        "b = tf.Variable(tf.zeros(2, dtype=tf.float32), name='b')\n",
        "x = [[1., 2., 3.]]\n",
        "\n",
        "with tf.GradientTape(persistent=True) as tape:\n",
        "  y = x @ w + b\n",
        "  loss = tf.reduce_mean(y**2)\n",
        "print(loss)"
      ],
      "metadata": {
        "colab": {
          "base_uri": "https://localhost:8080/"
        },
        "id": "uv-MPlT8ucMr",
        "outputId": "ebe41919-6570-4102-d1ed-956ac63f551d"
      },
      "execution_count": 12,
      "outputs": [
        {
          "output_type": "stream",
          "name": "stdout",
          "text": [
            "tf.Tensor(2.822177, shape=(), dtype=float32)\n",
            "tf.Tensor(2.822177, shape=(), dtype=float32)\n"
          ]
        }
      ]
    },
    {
      "cell_type": "markdown",
      "source": [
        "두 변수 모두에 대해 loss의 그래디언트를 가져오려면, 두 변수를 gradient 메서드에 소스로 전달할 수 있다. 테이프는 소스가 전달되는 방식에 대해 융통성이 있으며 목록 또는 사전의 중첩된 조합을 허용하고 같은 방식으로 구조화된 그래디언트를 반환한다."
      ],
      "metadata": {
        "id": "07Ptv7PBwAyY"
      }
    },
    {
      "cell_type": "code",
      "source": [
        "[dl_dw, dl_db] = tape.gradient(loss, [w, b])"
      ],
      "metadata": {
        "id": "X5Nkk5KywADv"
      },
      "execution_count": 9,
      "outputs": []
    },
    {
      "cell_type": "code",
      "source": [
        "print(w.shape)\n",
        "print(dl_dw.shape)\n",
        "print(dl_dw)"
      ],
      "metadata": {
        "colab": {
          "base_uri": "https://localhost:8080/"
        },
        "id": "TjxrGMkMwWGv",
        "outputId": "5f57c46e-1dc5-4d4f-a90b-0cfc1cfe7eed"
      },
      "execution_count": 13,
      "outputs": [
        {
          "output_type": "stream",
          "name": "stdout",
          "text": [
            "(3, 2)\n",
            "(3, 2)\n",
            "tf.Tensor(\n",
            "[[  4.7993526  -5.5710645]\n",
            " [  9.598705  -11.142129 ]\n",
            " [ 14.398058  -16.713194 ]], shape=(3, 2), dtype=float32)\n"
          ]
        }
      ]
    },
    {
      "cell_type": "markdown",
      "source": [
        "다음은 그래디언트 계산이다. 이번에는 변수의 dictionary 를 전달한다."
      ],
      "metadata": {
        "id": "26sVOeG-wnNV"
      }
    },
    {
      "cell_type": "code",
      "source": [
        "my_vars = {\n",
        "    'w':w,\n",
        "    'b':b\n",
        "}\n",
        "\n",
        "grad = tape.gradient(loss, my_vars)\n",
        "grad['b']"
      ],
      "metadata": {
        "colab": {
          "base_uri": "https://localhost:8080/"
        },
        "id": "3Kt9AiFgwkiK",
        "outputId": "f1090c2b-c075-428d-9e5f-687a6032ff2f"
      },
      "execution_count": 11,
      "outputs": [
        {
          "output_type": "execute_result",
          "data": {
            "text/plain": [
              "<tf.Tensor: shape=(2,), dtype=float32, numpy=array([ 4.7993526, -5.5710645], dtype=float32)>"
            ]
          },
          "metadata": {},
          "execution_count": 11
        }
      ]
    },
    {
      "cell_type": "markdown",
      "source": [
        "# 모델에 대한 그래디언트(Gradients with respect to a model)\n",
        "\n",
        "검사점 설정 및 내보내기를 위해 tf.Variables를 tf.Module 또는 해당 서브 클래스(layers.Layer 와 keras.Model) 중 하나로 수집하는 것이 일반적이다.\n",
        "\n",
        "대부분의 경우 모델의 훈련 가능한 변수에 대한 그래디언트를 계산하려고 한다. tf.Module 의 모든 서브 클래스는 Module.trainable_variables 속성에서 변수를 집계하므로 몇 줄의 코드로 이러한 그래디언트를 계산할 수 있다."
      ],
      "metadata": {
        "id": "wjk29RtKxZep"
      }
    },
    {
      "cell_type": "code",
      "source": [
        "layer = tf.keras.layers.Dense(2, activation='relu')\n",
        "x = tf.constant([[1., 2., 3.]])\n",
        "\n",
        "with tf.GradientTape() as tape:\n",
        "  # Forward pass\n",
        "  y = layer(x)\n",
        "  loss = tf.reduce_mean(y**2)\n",
        "\n",
        "# Calculate gradients with respect to every trainable variable\n",
        "grad = tape.gradient(loss, layer.trainable_variables)"
      ],
      "metadata": {
        "id": "188ym9qywzCh"
      },
      "execution_count": 14,
      "outputs": []
    },
    {
      "cell_type": "code",
      "source": [
        "for var, g in zip(layer.trainable_variables, grad):\n",
        "  print(f'{var.name}, shape: {g.shape}')"
      ],
      "metadata": {
        "colab": {
          "base_uri": "https://localhost:8080/"
        },
        "id": "fjK78YLAy-si",
        "outputId": "1bd4d210-4d3c-4ec8-a3ac-7258605059ba"
      },
      "execution_count": 15,
      "outputs": [
        {
          "output_type": "stream",
          "name": "stdout",
          "text": [
            "dense/kernel:0, shape: (3, 2)\n",
            "dense/bias:0, shape: (2,)\n"
          ]
        }
      ]
    },
    {
      "cell_type": "markdown",
      "source": [
        "# 테이프의 감시 대상 제어하기(Controlling what the tape watches)\n",
        "\n",
        "기본 동작은 훈련 가능한 tf.Variable 에 액세스한 후 모든 연산을 기록하는 것이다. 그 이유는 다음과 같다.\n",
        "\n",
        "\n",
        "*   테이프는 역방향 패스의 그래디언트를 계산하기 위해 정방향 패스에 기록할 연산을 알아야 한다.\n",
        "*   테이프는 중간 출력에 대한 참조를 보우하므로 불필요한 연산을 기록하지 않는다.\n",
        "*   가장 일반적인 사용 사례는 모든 모델의 훈련 가능한 변수에 대해 손실의 그래디언트를 계산하는 것이다.\n",
        "\n",
        "\n",
        "예를 들어, 다음은 tf.Tensor 가 기본적으로 '감시'되지 않고 tf.Variable 을 훈련할 수 없기 때문에 그래디언트를 계산하지 못한다.\n",
        "\n"
      ],
      "metadata": {
        "id": "3ak9iWwQ0f24"
      }
    },
    {
      "cell_type": "code",
      "source": [
        "# A trainable variable\n",
        "x0 = tf.Variable(3.0, name='x0')\n",
        "# Not trainable\n",
        "x1 = tf.Variable(3.0, name='x1', trainable=False)\n",
        "# Not a Variable: A variable + tensor returns a tensor.\n",
        "x2 = tf.Variable(2.0, name='x2') + 1.0\n",
        "# Not a variable\n",
        "x3 = tf.constant(3.0, name='x3')\n",
        "\n",
        "with tf.GradientTape() as tape:\n",
        "  y = (x0**2) + (x1**2) + (x2**2)\n",
        "\n",
        "grad = tape.gradient(y, [x0, x1, x2, x3])\n",
        "\n",
        "for g in grad:\n",
        "  print(g)"
      ],
      "metadata": {
        "id": "uKzu4qWgzTYx"
      },
      "execution_count": null,
      "outputs": []
    },
    {
      "cell_type": "markdown",
      "source": [
        "tf.GradientTape 는 사용자가 감시 대상 또는 감시 예외 대상을 제어할 수 있는 후크를 제공한다.\n",
        "\n",
        "tf.Tensor 에 대한 그래디언트를 기록하려면 기록하려면 GradientTape.watch(x) 를 호출해야 한다."
      ],
      "metadata": {
        "id": "IwvhIKrK1v8Q"
      }
    },
    {
      "cell_type": "code",
      "source": [
        "x = tf.constant(3.0)\n",
        "with tf.GradientTape() as tape:\n",
        "  tape.watch(x)\n",
        "  y = x**2\n",
        "\n",
        "# dy = 2x * dx\n",
        "dy_dx = tape.gradient(y, x)\n",
        "print(dy_dx.numpy())"
      ],
      "metadata": {
        "colab": {
          "base_uri": "https://localhost:8080/"
        },
        "id": "CZGsca_519M4",
        "outputId": "a4bcf264-d9e7-429d-8c75-abec62483b5f"
      },
      "execution_count": 16,
      "outputs": [
        {
          "output_type": "stream",
          "name": "stdout",
          "text": [
            "6.0\n"
          ]
        }
      ]
    },
    {
      "cell_type": "markdown",
      "source": [
        "반대로, 모든 tf.Variables 을 감시하는 기본 동작을 비활성화하려면, 그래디언트 테이프를 만들 때 watch_accessed_variables=False 를 설정한다. 이 계산은 두 가지 변수를 사용하지만, 변수 중 하나의 그래디언트만 연결한다."
      ],
      "metadata": {
        "id": "mfKWfn-w2eMW"
      }
    },
    {
      "cell_type": "code",
      "source": [
        "x0 = tf.Variable(0.0)\n",
        "x1 = tf.Variable(10.0)\n",
        "\n",
        "with tf.GradientTape(watch_accessed_variables=False) as tape:\n",
        "  tape.watch(x1)\n",
        "  y0 = tf.math.sin(x0)\n",
        "  y1 = tf.nn.softplus(x1)\n",
        "  y = y0 + y1\n",
        "  ys = tf.reduce_sum(y)"
      ],
      "metadata": {
        "id": "ME8UE1mP2YiP"
      },
      "execution_count": 18,
      "outputs": []
    },
    {
      "cell_type": "markdown",
      "source": [
        "x0 에서 GradientTape.watch 가 호출되지 않았으므로 이에 대한 그래디언트가 계산되지 않는다."
      ],
      "metadata": {
        "id": "6s6S8ktK3VSC"
      }
    },
    {
      "cell_type": "code",
      "source": [
        "# dys/dx1 = exp(x1) / (1+exp(x1)) = sigmoid(x1)\n",
        "grad = tape.gradient(ys, {'x0': x0, 'x1':x1})\n",
        "\n",
        "print('dy/dx0:', grad['x0'])\n",
        "print('dy/dx1:', grad['x1'].numpy())"
      ],
      "metadata": {
        "colab": {
          "base_uri": "https://localhost:8080/"
        },
        "id": "f54uQ6Fp3N1V",
        "outputId": "7d45d78d-cc9b-4087-e284-81c07b766fbb"
      },
      "execution_count": 19,
      "outputs": [
        {
          "output_type": "stream",
          "name": "stdout",
          "text": [
            "dy/dx0: None\n",
            "dy/dx1: 0.9999546\n"
          ]
        }
      ]
    },
    {
      "cell_type": "markdown",
      "source": [
        "# 중간 결과(Intermediate results)\n",
        "\n",
        "tf.GradientTape 컨텍스트 내에서 계산된 중간값과 관련하여 출력의 그래디언트를 요청할 수도 있다."
      ],
      "metadata": {
        "id": "HjGCZ7dk_clq"
      }
    },
    {
      "cell_type": "code",
      "source": [
        "x = tf.constant(3.0)\n",
        "\n",
        "with tf.GradientTape() as tape:\n",
        "  tape.watch(x)\n",
        "  y = x*x\n",
        "  z = y*y\n",
        "\n",
        "# Use the tape to compute the gradient of z with respect to the intermediate value y.\n",
        "# dz_dy = 2 * y and y = x ** 2 = 9\n",
        "print(tape.gradient(z, y).numpy())"
      ],
      "metadata": {
        "colab": {
          "base_uri": "https://localhost:8080/"
        },
        "id": "G10ukrje3tfI",
        "outputId": "5597d6c8-afa7-4893-8823-4366bce911c4"
      },
      "execution_count": 20,
      "outputs": [
        {
          "output_type": "stream",
          "name": "stdout",
          "text": [
            "18.0\n"
          ]
        }
      ]
    },
    {
      "cell_type": "markdown",
      "source": [
        "기본적으로, GradientTape.gradient 메서드가 호출되면 GradientTape 가 보유한 리소스가 해제된다. 도일한 계산에 대해 여러 그래디언트가 계산하려면 persistent=True 그래디언트 테이프를 만든다. 이렇게 하면 테이프 객체가 가비지 수집될 때 리소스가 해제되면 gradient 메서드를 여러 번 호출할 수 있다. 예를 들면 다음과 같다."
      ],
      "metadata": {
        "id": "MaLhDmXFEQuW"
      }
    },
    {
      "cell_type": "code",
      "source": [
        "x = tf.constant([1, 3.0])\n",
        "with tf.GradientTape(persistent=True) as tape:\n",
        "  tape.watch(x)\n",
        "  y = x * x\n",
        "  z = y * y\n",
        "\n",
        "print(tape.gradient(z, x).numpy()) # 108,0 (4 * x**3 at x = 3)\n",
        "print(tape.gradient(y, x).numpy()) # 6.0 (2 * x)"
      ],
      "metadata": {
        "colab": {
          "base_uri": "https://localhost:8080/"
        },
        "id": "JaWs6wF_EMAh",
        "outputId": "b29d0e97-0177-4dab-93bf-698cdda805cb"
      },
      "execution_count": 21,
      "outputs": [
        {
          "output_type": "stream",
          "name": "stdout",
          "text": [
            "[  4. 108.]\n",
            "[2. 6.]\n"
          ]
        }
      ]
    },
    {
      "cell_type": "code",
      "source": [
        "del tape  # Drop the reference to the tape"
      ],
      "metadata": {
        "id": "XhM2SY5UFGwF"
      },
      "execution_count": 22,
      "outputs": []
    },
    {
      "cell_type": "markdown",
      "source": [
        "# 성능에 대한 참고 사항(Notes on performance)\n",
        "\n",
        "*   그래디언트 테이프 컨텍스트 내에서 연산을 수행하는 것과 관련하여 작은 오버헤드가 있다. 대부분의 Eager 실행에는 상당한 비용이 들지 않지만, 필요한 경우에만 테이프 컨텍스트를 사용해야 한다.\n",
        "*   그래디언트 테이프는 메모리를 사용하여 역방향 패스 동안 사용하기 위해 입력 및 출력을 포함한 중간 결과를 저장한다.\n",
        "\n",
        "효율성을 위해(ReLU와 같은) 일부 연산은 중간 결과를 유지할 필요가 없으며 정방향 패스 동안에 정리된다. 그러나 테이프에서 persistent=True를 사용하면 *아무것도 삭제되지 않으며* 최대 메모리 사용량이 높아진다."
      ],
      "metadata": {
        "id": "oSx0u40RFd09"
      }
    },
    {
      "cell_type": "markdown",
      "source": [
        "# 스칼라가 아닌 대상의 그래디언트(Gradients of non-scalar targets)\n",
        "\n",
        "그래디언트는 기본적으로 스칼라에 대한 연산이다."
      ],
      "metadata": {
        "id": "__1y077oGV51"
      }
    },
    {
      "cell_type": "code",
      "source": [
        "x = tf.Variable(2.0)\n",
        "with tf.GradientTape(persistent=True) as tape:\n",
        "  y0 = x**2\n",
        "  y1 = 1 / x\n",
        "\n",
        "print(tape.gradient(y0, x).numpy())\n",
        "print(tape.gradient(y1, x).numpy())"
      ],
      "metadata": {
        "colab": {
          "base_uri": "https://localhost:8080/"
        },
        "id": "LhhP9qpZFdMT",
        "outputId": "af94c215-cf37-44fc-d7f7-281984ed1ac7"
      },
      "execution_count": 23,
      "outputs": [
        {
          "output_type": "stream",
          "name": "stdout",
          "text": [
            "4.0\n",
            "-0.25\n"
          ]
        }
      ]
    },
    {
      "cell_type": "markdown",
      "source": [
        "따라서, 여러 대상의 그래디언트를 요청하면 각 소스의 결과는 다음과 같다.\n",
        "\n",
        "*   대상의 합계 또는 그에 상응하는 그래디언트\n",
        "*   각 대상의 그래디트의 합계"
      ],
      "metadata": {
        "id": "Wk4Q3YrAGt-p"
      }
    },
    {
      "cell_type": "code",
      "source": [
        "x = tf.Variable(2.0)\n",
        "with tf.GradientTape() as tape:\n",
        "  y0 = x**2\n",
        "  y1 = 1 / x\n",
        "\n",
        "print(tape.gradient({'y0': y0, 'y1' : y1}, x).numpy()) # (2x at x=2) + (-(1/x)^2 at x=2)"
      ],
      "metadata": {
        "colab": {
          "base_uri": "https://localhost:8080/"
        },
        "id": "dAsnonToGs61",
        "outputId": "4d189916-f26d-4ea5-e2c4-0d336857975d"
      },
      "execution_count": 24,
      "outputs": [
        {
          "output_type": "stream",
          "name": "stdout",
          "text": [
            "3.75\n"
          ]
        }
      ]
    },
    {
      "cell_type": "markdown",
      "source": [
        "마찬가지로, 대상이 스칼라가 아닌 경우 합계의 그래디언트가 계산된다."
      ],
      "metadata": {
        "id": "wICmVTMiHUGL"
      }
    },
    {
      "cell_type": "code",
      "source": [
        "x = tf.Variable(2.)\n",
        "\n",
        "with tf.GradientTape() as tape:\n",
        "  y = x * [3., 4.]\n",
        "\n",
        "print(tape.gradient(y, x).numpy())"
      ],
      "metadata": {
        "colab": {
          "base_uri": "https://localhost:8080/"
        },
        "id": "vFush0SQHHcm",
        "outputId": "b8537f40-9d60-4d97-d7e1-9c6471d6a90f"
      },
      "execution_count": 25,
      "outputs": [
        {
          "output_type": "stream",
          "name": "stdout",
          "text": [
            "7.0\n"
          ]
        }
      ]
    },
    {
      "cell_type": "markdown",
      "source": [
        "이렇게 하면, 손실 컬렉션 합계의 그래디언트 또는 요소별 손실 계산 합계의 그래디언트를 간단하게 구할 수 있습니다.\n",
        "\n",
        "각 항목에 대해 별도의 그래디언트가 필요한 경우, [야고비안](https://www.tensorflow.org/guide/advanced_autodiff?authuser=1#jacobians)을 참조하세요.\n",
        "\n",
        "어떤 경우에는 야고비안을 건너뛸 수 있습니다. 요소별 계산의 경우, 각 요소가 독립적이므로 합의 그래디언트는 입력 요소와 관련하여 각 요소의 미분을 제공합니다."
      ],
      "metadata": {
        "id": "nj3gSyzPH77v"
      }
    },
    {
      "cell_type": "code",
      "source": [
        "x = tf.linspace(-10.0, 10.0, 200+1)\n",
        "\n",
        "with tf.GradientTape() as tape:\n",
        "  tape.watch(x)\n",
        "  y = tf.nn.sigmoid(x)\n",
        "\n",
        "dy_dx = tape.gradient(y, x)"
      ],
      "metadata": {
        "id": "V8bFQXooH27b"
      },
      "execution_count": 26,
      "outputs": []
    },
    {
      "cell_type": "code",
      "source": [
        "plt.plot(x, y, label='y')\n",
        "plt.plot(x, dy_dx, label='dy/dx')\n",
        "plt.legend()\n",
        "_ = plt.xlabel('x')"
      ],
      "metadata": {
        "colab": {
          "base_uri": "https://localhost:8080/",
          "height": 279
        },
        "id": "9Qfj-coNIwKM",
        "outputId": "8f8bbd3a-4911-4b54-aff7-0e338869de55"
      },
      "execution_count": 27,
      "outputs": [
        {
          "output_type": "display_data",
          "data": {
            "image/png": "[encoded data removed]",
            "text/plain": [
              "<Figure size 432x288 with 1 Axes>"
            ]
          },
          "metadata": {
            "needs_background": "light"
          }
        }
      ]
    },
    {
      "cell_type": "markdown",
      "source": [
        "# 흐름 제어하기(Control flow)\n",
        "\n",
        "그래디언트 테이프는 실행되는 연산을 기록하기 때문에 Python 제어 흐름이 자연스럽게 처리됩니다(예: if 및 while 구문).\n",
        "\n",
        "여기서는 if의 각 분기에 서로 다른 변수가 사용됩니다. 그래디언트는 사용된 변수에만 연결됩니다."
      ],
      "metadata": {
        "id": "lrDpZmbpJdP5"
      }
    },
    {
      "cell_type": "code",
      "source": [
        "x = tf.constant(1.0)\n",
        "\n",
        "v0 = tf.Variable(2.0)\n",
        "v1 = tf.Variable(2.0)\n",
        "\n",
        "with tf.GradientTape(persistent=True) as tape:\n",
        "  tape.watch(x)\n",
        "  if x > 0.0:\n",
        "    result = v0\n",
        "  else:\n",
        "    result = v1**2 \n",
        "\n",
        "dv0, dv1 = tape.gradient(result, [v0, v1])\n",
        "\n",
        "print(dv0)\n",
        "print(dv1)"
      ],
      "metadata": {
        "colab": {
          "base_uri": "https://localhost:8080/"
        },
        "id": "tzIWNBy4I6sS",
        "outputId": "35af88df-7ee5-4ee2-a63f-50f77e0f57d1"
      },
      "execution_count": 28,
      "outputs": [
        {
          "output_type": "stream",
          "name": "stdout",
          "text": [
            "tf.Tensor(1.0, shape=(), dtype=float32)\n",
            "None\n"
          ]
        }
      ]
    },
    {
      "cell_type": "markdown",
      "source": [
        "제어문 자체는 미분할 수 없으므로 그래디언트 기반 최적화 프로그램에는 보이지 않습니다.\n",
        "\n",
        "위 예제에서 x 값에 따라 테이프는 result = v0 또는 result = v1**2를 기록합니다. x에 대한 그래디언트는 항상 None입니다."
      ],
      "metadata": {
        "id": "4Mhu5BnhJ25F"
      }
    },
    {
      "cell_type": "code",
      "source": [
        "dx = tape.gradient(result, x)\n",
        "\n",
        "print(dx)"
      ],
      "metadata": {
        "colab": {
          "base_uri": "https://localhost:8080/"
        },
        "id": "UU282tv-Jn1W",
        "outputId": "491c0cd1-7c41-4d1d-a762-e3a3e61e7bc9"
      },
      "execution_count": 29,
      "outputs": [
        {
          "output_type": "stream",
          "name": "stdout",
          "text": [
            "None\n"
          ]
        }
      ]
    },
    {
      "cell_type": "markdown",
      "source": [
        "# None의 그래디언트 구하기\n",
        "\n",
        "대상이 소스에 연결되어 있지 않으면 그래디언트는 None 이다."
      ],
      "metadata": {
        "id": "iuWwCNlBKBo8"
      }
    },
    {
      "cell_type": "code",
      "source": [
        "x = tf.Variable(2.)\n",
        "y = tf.Variable(3.)\n",
        "\n",
        "with tf.GradientTape() as tape:\n",
        "  z = y * y\n",
        "print(tape.gradient(z, x))"
      ],
      "metadata": {
        "colab": {
          "base_uri": "https://localhost:8080/"
        },
        "id": "DReEg0HlJ7lJ",
        "outputId": "04b1e257-fee4-4fbc-b699-79ea66b21aa5"
      },
      "execution_count": 30,
      "outputs": [
        {
          "output_type": "stream",
          "name": "stdout",
          "text": [
            "None\n"
          ]
        }
      ]
    },
    {
      "cell_type": "markdown",
      "source": [
        "여기서 z는 명확하게 x에 연결되어 있지 않지만, 그래디언트의 연결을 끊을 수 있는 몇 가지 덜 명확한 방법이 있다."
      ],
      "metadata": {
        "id": "viONY-59KSeq"
      }
    },
    {
      "cell_type": "markdown",
      "source": [
        "## 1. 변수를 텐서로 대체\n",
        "\"테이프의 감시 대상 제어\" {/a0} 섹션에서 테이프가 자동으로 tf.Variable을 감시하지만 tf.Tensor는 감시하지 않는 것을 살펴보았다.\n",
        "\n",
        "한 가지 일반적인 오류는 Variable.assign를 사용하여 tf.Variable를 업데이트하는 대신 실수로 tf.Variable을 tf.Tensor로 대체하는 것이다. 예를 들면, 다음과 같다."
      ],
      "metadata": {
        "id": "NZ8V0tSCKpvV"
      }
    },
    {
      "cell_type": "code",
      "source": [
        "x = tf.Variable(2.0)\n",
        "\n",
        "for epoch in range(2):\n",
        "  with tf.GradientTape() as tape:\n",
        "    y = x+1   # A variable + tensor returns a tensor.\n",
        "\n",
        "  print(type(x).__name__, \":\", tape.gradient(y, x))\n",
        "  x = x + 1   # This should be 'x.assign_add(1)'"
      ],
      "metadata": {
        "id": "EQk8AyacKRXU"
      },
      "execution_count": null,
      "outputs": []
    },
    {
      "cell_type": "markdown",
      "source": [
        "## 2. TensorFlow 외부에서 계산\n",
        "\n",
        "계산에서 TensorFlow를 종료하면 테이프가 그래디언트 경로를 기록할 수 없다. 예를 들면, 다음과 같다."
      ],
      "metadata": {
        "id": "0XrnZF1XSoZJ"
      }
    },
    {
      "cell_type": "code",
      "source": [
        "x = tf.Variable([[1.0, 2.0],\n",
        "                 [3.0, 4.0]], dtype=tf.float32)\n",
        "\n",
        "with tf.GradientTape() as tape:\n",
        "  x2 = x**2\n",
        "\n",
        "  # This step is calculated with NumPy\n",
        "  y = np.mean(x2, axis=0)\n",
        "\n",
        "  # Like most ops, reduce_mean will cast the NumPy array to a constant tensor\n",
        "  # using `tf.convert_to_tensor`.\n",
        "  y = tf.reduce_mean(y, axis=0)\n",
        "\n",
        "print(tape.gradient(y, x))"
      ],
      "metadata": {
        "colab": {
          "base_uri": "https://localhost:8080/"
        },
        "id": "jbGQq8RfSx3d",
        "outputId": "5fa59821-c065-403b-b82e-5379f7a154f9"
      },
      "execution_count": 31,
      "outputs": [
        {
          "output_type": "stream",
          "name": "stdout",
          "text": [
            "None\n"
          ]
        }
      ]
    },
    {
      "cell_type": "markdown",
      "source": [
        "## 3. 정수 또는 문자열을 통해 그래디언트를 구함.\n",
        "\n",
        "정수와 문자열은 구별할 수 없다. 계산 경로에서 이러한 데이터 유형을 사용하면 그래디언트는 없다.\n",
        "\n",
        "아무도 문자열을 미분할 것으로 기대하지 않지만, dtype을 지정하지 않으면 실수로 int 상수 또는 변수를 만들기 쉽다. "
      ],
      "metadata": {
        "id": "p_yR3AlSTYpO"
      }
    },
    {
      "cell_type": "code",
      "source": [
        "x = tf.constant(10)\n",
        "\n",
        "with tf.GradientTape() as g:\n",
        "  g.watch(x)\n",
        "  y = x * x\n",
        "\n",
        "print(g.gradient(y, x))"
      ],
      "metadata": {
        "colab": {
          "base_uri": "https://localhost:8080/"
        },
        "id": "YFx2sYfCS0LZ",
        "outputId": "24b74a7c-8a01-45d0-a198-5fcc4ef3573d"
      },
      "execution_count": 32,
      "outputs": [
        {
          "output_type": "stream",
          "name": "stdout",
          "text": [
            "WARNING:tensorflow:The dtype of the watched tensor must be floating (e.g. tf.float32), got tf.int32\n",
            "WARNING:tensorflow:The dtype of the target tensor must be floating (e.g. tf.float32) when calling GradientTape.gradient, got tf.int32\n",
            "WARNING:tensorflow:The dtype of the source tensor must be floating (e.g. tf.float32) when calling GradientTape.gradient, got tf.int32\n",
            "None\n"
          ]
        }
      ]
    },
    {
      "cell_type": "markdown",
      "source": [
        "TensorFlow는 유형 간에 자동으로 전송되지 않으므로 실제로 그래디언트가 누락되는 대신 type error가 발생한다. "
      ],
      "metadata": {
        "id": "bc47JSxhUE-0"
      }
    },
    {
      "cell_type": "markdown",
      "source": [
        "## 4. 상태(state) 저장 개체를 통해 그래디언트를 구함.\n",
        "\n",
        "상태(state)가 그래디언트를 중지한다.상태 저장 객체에서 읽을 때 테이프는 현재 상태만 볼 수 있으며 현재 상태에 이르게 된 기록은 볼 수 없다.\n",
        "\n",
        "tf.Tensor 는 변경할 수 없다. 텐서가 작성된 후에는 변경할 수 없다. *값*은 있지만 상태는 없다. 지금까지 논의된 모든 연산은 상태 비저장이다. tf.matmul의 출력은 입력에만 의존한다. \n",
        "\n",
        "tf.Variable은 내부 상태와 값을 갖는다. 변수를 사용하면 상태를 읽는다. 변수와 관련하여 그래디언트를 계산하는 것이 일반적이지만, 변수의 상태는 그래디언트 계산이 더 멀리 돌아가지 않도록 차단한다. 예를 들면, 다음과 같다."
      ],
      "metadata": {
        "id": "LZ6svJU8UPVH"
      }
    },
    {
      "cell_type": "code",
      "source": [
        "x0 = tf.Variable(3.0)\n",
        "x1 = tf.Variable(0.0)\n",
        "\n",
        "with tf.GradientTape() as tape:\n",
        "  # Update x1 = x1 + x0.\n",
        "  x1.assign_add(x0)\n",
        "  # The tape starts recording from x1.\n",
        "  y = x1**2   # y = (x1 + x0)**2\n",
        "\n",
        "# This doesn't work.\n",
        "print(tape.gradient(y, x0))   #dy/dx0 = 2*(x1 + x0)"
      ],
      "metadata": {
        "colab": {
          "base_uri": "https://localhost:8080/"
        },
        "id": "Qee8Lwr4T24x",
        "outputId": "a7f026ff-7ae4-4d3f-b1d8-18185635581e"
      },
      "execution_count": 33,
      "outputs": [
        {
          "output_type": "stream",
          "name": "stdout",
          "text": [
            "None\n"
          ]
        }
      ]
    },
    {
      "cell_type": "markdown",
      "source": [
        "마찬가지로, tf.data.Dataset 반복기(iterator)와 tf.queue는 상태 저장이며 이들을 통과하는 텐서의 모든 그래디언트를 중지합니다."
      ],
      "metadata": {
        "id": "YhF3bw-fWXpq"
      }
    },
    {
      "cell_type": "markdown",
      "source": [
        "# 그래디언트가 등록되지 않음(No gradient registered)\n",
        "\n",
        "일부 tf.Operation 는 **미분 불가능한 것으로 등록되어** None을 반환한다. 다른 연산에는 **그래디언트가 등록되지 않았다.**\n",
        "\n",
        "tf.raw_ops 페이지에는 그래디언트가 등록된 저수준 op가 표시된다.\n",
        "\n",
        "그래디언트가 등록되지 않은 float op를 통해 그래디언트를 얻고자 시도하면 테이프가 자동으로 None을 반환하는 대신 오류가 발생한다. 이렇게 하면 무언가 잘못되었다는 것을 알 수  있다. \n",
        "\n",
        "예를 들어, tf.image.adjust_contrast 함수는 그래디언트를 가질 수 있지만 그래디언트는 구현되지 않은 raw_ops.AdjustContrastv2 를 래핑한다.\n"
      ],
      "metadata": {
        "id": "Rv8xwLveWo9c"
      }
    },
    {
      "cell_type": "code",
      "source": [
        "image = tf.Variable([[[0.5, 0.0, 0.0]]])\n",
        "delta = tf.Variable(0.1)\n",
        "\n",
        "with tf.GradientTape() as tape:\n",
        "  new_image = tf.image.adjust_contrast(image, delta)\n",
        "\n",
        "try:\n",
        "  print(tape.gradient(new_image, [image, delta]))\n",
        "  assert False   # This should not happen.\n",
        "except LookupError as e:\n",
        "  print(f'{type(e).__name__}: {e}')"
      ],
      "metadata": {
        "colab": {
          "base_uri": "https://localhost:8080/"
        },
        "id": "nIvEE_p1VlFR",
        "outputId": "8bee34ed-0826-4f28-9964-eea7280b8e0e"
      },
      "execution_count": 34,
      "outputs": [
        {
          "output_type": "stream",
          "name": "stdout",
          "text": [
            "LookupError: gradient registry has no entry for: AdjustContrastv2\n"
          ]
        }
      ]
    },
    {
      "cell_type": "markdown",
      "source": [
        "이 op를 통해 미분해야 하는 경우, 그래디언트를 구현하고 등록하거나(tf.RegisterGradient 사용) 다른 ops를 사용하여 함수를 다시 구현해야 한다."
      ],
      "metadata": {
        "id": "mQyQ7WNNXjEJ"
      }
    },
    {
      "cell_type": "markdown",
      "source": [
        "# None 대신 0(Zeros instead of None)\n",
        "\n",
        "연결되지 않은 그래디언트의 경우 None 대신 0을 가져오는 것이 편리한 경우가 있다. 연결되지 않은 그래디언트가 있을 때 unconnected_gradients 인수를 사용하여 반환할 항목을 결정할 수 있다."
      ],
      "metadata": {
        "id": "kb4Uw-vJZnZq"
      }
    },
    {
      "cell_type": "code",
      "source": [
        "x = tf.Variable([2., 2.])\n",
        "y = tf.Variable(3.)\n",
        "\n",
        "with tf.GradientTape() as tape:\n",
        "  z = y**2\n",
        "print(tape.gradient(z, x, unconnected_gradients=tf.UnconnectedGradients.ZERO))"
      ],
      "metadata": {
        "colab": {
          "base_uri": "https://localhost:8080/"
        },
        "id": "VD5ODsN6Xbue",
        "outputId": "a923e322-3f07-43dd-d5bb-1de33d93a786"
      },
      "execution_count": 35,
      "outputs": [
        {
          "output_type": "stream",
          "name": "stdout",
          "text": [
            "tf.Tensor([0. 0.], shape=(2,), dtype=float32)\n"
          ]
        }
      ]
    }
  ]
}