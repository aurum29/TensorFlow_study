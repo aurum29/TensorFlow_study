{
  "nbformat": 4,
  "nbformat_minor": 0,
  "metadata": {
    "colab": {
      "name": "tensorflow_Introduction_to_Variables.ipynb",
      "provenance": [],
      "authorship_tag": "ABX9TyPFfxzuJj+1NzgzlyaA488E",
      "include_colab_link": true
    },
    "kernelspec": {
      "name": "python3",
      "display_name": "Python 3"
    },
    "language_info": {
      "name": "python"
    }
  },
  "cells": [
    {
      "cell_type": "markdown",
      "metadata": {
        "id": "view-in-github",
        "colab_type": "text"
      },
      "source": [
        "<a href=\"https://colab.research.google.com/github/zombe962/TensorFlow_study/blob/main/tensorflow_Introduction_to_Variables.ipynb\" target=\"_parent\"><img src=\"https://colab.research.google.com/assets/colab-badge.svg\" alt=\"Open In Colab\"/></a>"
      ]
    },
    {
      "cell_type": "markdown",
      "source": [
        "# Tensorflow 학습 - 변수 소개\n",
        "\n",
        "2022.02.28\n",
        "\n",
        "https://www.tensorflow.org/guide/varialbe"
      ],
      "metadata": {
        "id": "nR-IRyNXC_ga"
      }
    },
    {
      "cell_type": "markdown",
      "source": [
        "TensorFlow 변수는 프로그램이 조작하는 공유 영구 상태를 나타내는 권장 바법이다. 이 가이드는 TensorFlow에서 tf.Variable 인스턴스를 작성, 업데이트 및 관리하는 방법을 설명한다.\n",
        "\n",
        "\n",
        "\n",
        "변수는 tf.Variable 클래스를 통해 생성 및 추적된다. tf.Variable은 ops를 실행하여 값을 변경할 수 있는 텐서를 나타낸다. 특정 ops를 사용하면 이 텐서의 값을 읽고 수정할 수 있다. tf. keras와 같은 상위 수준의 라이브러리는 tf.Variable을 사용하여 모델 매개변수를 저장한다."
      ],
      "metadata": {
        "id": "N4mVZGECDVjN"
      }
    },
    {
      "cell_type": "markdown",
      "source": [
        "# 설정(Setup)"
      ],
      "metadata": {
        "id": "mBV83y-hD3b_"
      }
    },
    {
      "cell_type": "code",
      "execution_count": 2,
      "metadata": {
        "id": "o8nNH4_2eycz"
      },
      "outputs": [],
      "source": [
        "import tensorflow as tf\n",
        "\n",
        "# Uncomment to see where your variables get placed (see below)\n",
        "# tf.debugging.set_log_device_placement(True)"
      ]
    },
    {
      "cell_type": "markdown",
      "source": [
        "# 변수 만들기(Create a variable)\n",
        "\n",
        "변수를 작성하려면 초기값을 제공해야한다. 따라서 tf.Variable은 초기화 값과 같은 dtype을 가진다."
      ],
      "metadata": {
        "id": "R3f3wjLCD5y5"
      }
    },
    {
      "cell_type": "code",
      "source": [
        "my_tensor = tf.constant([[1.0, 2.0], [3.0, 4.0]])\n",
        "my_variable = tf.Variable(my_tensor)\n",
        "\n",
        "# Variables can be all kinds of types, just like tensors\n",
        "bool_variable = tf.Variable([False, False, False, True])\n",
        "complex_variable = tf.Variable([5 + 4j, 6 + 1j])"
      ],
      "metadata": {
        "id": "_fd05TJSEEYi"
      },
      "execution_count": 3,
      "outputs": []
    },
    {
      "cell_type": "markdown",
      "source": [
        "변수는 텐서처럼 보이고 작동하며, 실제로 tf.Tensor 에서 지원되는 데이터 구조이다. 텐서와 마찬가지로, dtype 과 형상을 가지며 NumPy로 내보낼 수 있다."
      ],
      "metadata": {
        "id": "QUY0YtvJEiBB"
      }
    },
    {
      "cell_type": "code",
      "source": [
        "print(\"Shape: \", my_variable.shape)\n",
        "print(\"DType: \", my_variable.dtype)\n",
        "print(\"As NumPy: \", my_variable.numpy())"
      ],
      "metadata": {
        "colab": {
          "base_uri": "https://localhost:8080/"
        },
        "id": "XRzuq7g9Eqiy",
        "outputId": "8bf05cd1-e342-48de-993b-7a5ef8eeb64e"
      },
      "execution_count": 4,
      "outputs": [
        {
          "output_type": "stream",
          "name": "stdout",
          "text": [
            "Shape:  (2, 2)\n",
            "DType:  <dtype: 'float32'>\n",
            "As NumPy:  [[1. 2.]\n",
            " [3. 4.]]\n"
          ]
        }
      ]
    },
    {
      "cell_type": "markdown",
      "source": [
        "변수를 재구성할 수는 없지만, 대부분의 텐서 연산은 예상대로 변수에 대해 작동한다."
      ],
      "metadata": {
        "id": "D8uSYeNiFIJc"
      }
    },
    {
      "cell_type": "code",
      "source": [
        "print(\"A variable:\", my_variable)\n",
        "print(\"\\nViewed as a tensor:\", tf.convert_to_tensor(my_variable))\n",
        "print(\"\\nIndex of highest value:\", tf.argmax(my_variable))\n",
        "\n",
        "# This creates a new tensor; it does not reshape the variable.\n",
        "print(\"\\nCopying and reshaping: \", tf.reshape(my_variable, [1,4]))"
      ],
      "metadata": {
        "colab": {
          "base_uri": "https://localhost:8080/"
        },
        "id": "kDDOmVPkEzKB",
        "outputId": "2e284291-5505-48b6-b2fc-dad2cd3aa278"
      },
      "execution_count": 5,
      "outputs": [
        {
          "output_type": "stream",
          "name": "stdout",
          "text": [
            "A variable: <tf.Variable 'Variable:0' shape=(2, 2) dtype=float32, numpy=\n",
            "array([[1., 2.],\n",
            "       [3., 4.]], dtype=float32)>\n",
            "\n",
            "Viewed as a tensor: tf.Tensor(\n",
            "[[1. 2.]\n",
            " [3. 4.]], shape=(2, 2), dtype=float32)\n",
            "\n",
            "Index of highest value: tf.Tensor([1 1], shape=(2,), dtype=int64)\n",
            "\n",
            "Copying and reshaping:  tf.Tensor([[1. 2. 3. 4.]], shape=(1, 4), dtype=float32)\n"
          ]
        }
      ]
    },
    {
      "cell_type": "markdown",
      "source": [
        "위에서 언급했듯이, 변수는 텐서에 의해 지원된다. tf.Variable.assign 을 사용하여 텐서를 재할당할 수 있다. assign을 호출해도 (일반적으로) 새로운 텐서를 할당하지 않고, 대신 기존 텐서의 메모리가 재사용된다."
      ],
      "metadata": {
        "id": "FX7zrKS7FWl_"
      }
    },
    {
      "cell_type": "code",
      "source": [
        "a = tf.Variable([2.0, 3.0])\n",
        "# This will keep the same dtype, float32\n",
        "a.assign([1, 2])    # 텐서 재할당\n",
        "# Not allowed as it resizes the variable: \n",
        "try:\n",
        "  a.assign([1.0, 2.0, 3.0]) # 기존 텐서의 메모리가 재사용되므로 overflow\n",
        "except Exception as e:\n",
        "  print(f\"{type(e).__name__}: {e}\")"
      ],
      "metadata": {
        "colab": {
          "base_uri": "https://localhost:8080/"
        },
        "id": "MkvtHhzVFOwv",
        "outputId": "44554af2-0829-411e-effd-7d4238c253a3"
      },
      "execution_count": 6,
      "outputs": [
        {
          "output_type": "stream",
          "name": "stdout",
          "text": [
            "ValueError: Cannot assign value to variable ' Variable:0': Shape mismatch.The variable shape (2,), and the assigned value shape (3,) are incompatible.\n"
          ]
        }
      ]
    },
    {
      "cell_type": "markdown",
      "source": [
        "연산에서 텐서와 같은 변수를 사용하는 경우, 일반적으로 지원 텐서에서 작동한다. 기존 변수에서 새 변수를 만들면 지원 텐서가 복제된다. 두 변수는 같은 메모리를 공유하지 않는다."
      ],
      "metadata": {
        "id": "v2owj5CJGUe_"
      }
    },
    {
      "cell_type": "code",
      "source": [
        "a = tf.Variable([2.0, 3.0])\n",
        "# Create b based on the value of a\n",
        "b = tf.Variable(a)\n",
        "a.assign([5, 6])\n",
        "\n",
        "# a and b are different\n",
        "print(a.numpy())\n",
        "print(b.numpy())\n",
        "\n",
        "# There are other versions of assign\n",
        "print(a.assign_add([2,3]).numpy())  # [7. 9.]\n",
        "print(a.assign_sub([7,9]).numpy())  # [0. 0.]"
      ],
      "metadata": {
        "colab": {
          "base_uri": "https://localhost:8080/"
        },
        "id": "ybj9xhVNGGF6",
        "outputId": "ac9e82d7-e696-4e3c-eb5f-25b0494845bd"
      },
      "execution_count": 7,
      "outputs": [
        {
          "output_type": "stream",
          "name": "stdout",
          "text": [
            "[5. 6.]\n",
            "[2. 3.]\n",
            "[7. 9.]\n",
            "[0. 0.]\n"
          ]
        }
      ]
    },
    {
      "cell_type": "markdown",
      "source": [
        "# 수명 주기, 이름 지정 및 감시(Lifecycles, naming, and watching)\n",
        "\n",
        "파이썬 기반 TensorFlow에서 tf.Variable 인스턴스는 다른 Python 객체와 같은 수명 주기를 갖습니다. 변수에 대한 참조가 없으면 자동으로 할당이 해제된다.\n",
        "\n",
        "변수를 추적하고 디버그하는데 도움이 되는 변수의 이름을 지정할 수도 있다. 두 변수에 같은 이름을 지정할 수 있다."
      ],
      "metadata": {
        "id": "miARqm1KHZRt"
      }
    },
    {
      "cell_type": "code",
      "source": [
        ""
      ],
      "metadata": {
        "id": "b_lG12FjIEwR"
      },
      "execution_count": null,
      "outputs": []
    },
    {
      "cell_type": "code",
      "source": [
        "# Create a and b; they will have the same name but will be backed by different tensors.\n",
        "a = tf.Variable(my_tensor, name=\"Mark\")\n",
        "# A new variable with the same name, but different value\n",
        "# Note that the scalar add is broadcast\n",
        "b = tf.Variable(my_tensor + 1, name=\"Mark\")\n",
        "\n",
        "# These are elementwise-unequal, despite having the same name\n",
        "print(a == b)\n",
        "print('\\n', a)\n",
        "print('\\n',b)"
      ],
      "metadata": {
        "colab": {
          "base_uri": "https://localhost:8080/"
        },
        "id": "-Uadb7-BG28c",
        "outputId": "1a25d675-7093-40b1-8f8e-419b10b63067"
      },
      "execution_count": 11,
      "outputs": [
        {
          "output_type": "stream",
          "name": "stdout",
          "text": [
            "tf.Tensor(\n",
            "[[False False]\n",
            " [False False]], shape=(2, 2), dtype=bool)\n",
            "\n",
            " <tf.Variable 'Mark:0' shape=(2, 2) dtype=float32, numpy=\n",
            "array([[1., 2.],\n",
            "       [3., 4.]], dtype=float32)>\n",
            "\n",
            " <tf.Variable 'Mark:0' shape=(2, 2) dtype=float32, numpy=\n",
            "array([[2., 3.],\n",
            "       [4., 5.]], dtype=float32)>\n"
          ]
        }
      ]
    },
    {
      "cell_type": "markdown",
      "source": [
        "모델을 저장하고 로드할 때 변수 이름이 유지된다. 기본적으로 모델의 변수는 고유한 변수 이름이 자동으로 지정되므로 원치 않으면 직접 할당할 필요가 없다.\n",
        "\n",
        "변수는 구별을 위해 중요하지만, 일부 변수는 구별할 필요가 없다. 생성 시 trainable을 false로 설정하여 변수의 그래디언트를 끌 수 있다. 그래디언트가 필요하지 않은 변수의 예는 훈련 단계 카운터이다."
      ],
      "metadata": {
        "id": "iPDwhYIEITmn"
      }
    },
    {
      "cell_type": "code",
      "source": [
        "step_counter = tf.Variable(1, trainable=False)"
      ],
      "metadata": {
        "id": "Sw2R5vRtIF5p"
      },
      "execution_count": 13,
      "outputs": []
    },
    {
      "cell_type": "markdown",
      "source": [
        "# 변수 및 텐서 배치하기(Placing variables and tensors)\n",
        "\n",
        "더 나은 성능을 위해 TensorFlow는 dtype과 호환되는 가장 빠른 기기에 텐서 및 변수를 배치하려고 시도한다. 이는 대부분의 변수가 GPU(사용 가능한 경우)에 배치됨을 의미한다.\n",
        "\n",
        "그러나 재정의할 수 있다. 다음 코드 조각에서는 GPU가 사용 가능한 경우에도 부동 텐서와 변수를 CPU에 배치할 수 있다. 기기 배치 로깅을 켜면([설정](https://www.tensorflow.org/guide/variable?authuser=1#scrollTo=xZoJJ4vdvTrD) 참조) 변수가 어디에 배치되었는지 확인할 수 있다.\n",
        "\n",
        "참고: 수동 배치도 가능하지만, [분배 전략](https://www.tensorflow.org/guide/distributed_training?authuser=1)을 사용하며 계산을 최적화하고 더 편리한 확장 가능한 방법이 될 수 있다.\n",
        "\n",
        "GPU가 있거나 없는 서로 다른 백엔드에서 이 노트북을 실행하면 서로 다른 로깅이 표시된다. *세션 시작 시 기기 배치 로깅을 켜야한다.*"
      ],
      "metadata": {
        "id": "l8biS3LtIxqU"
      }
    },
    {
      "cell_type": "code",
      "source": [
        "with tf.device('CPU:0'):\n",
        "\n",
        "  # Create some tensors\n",
        "  a = tf.Variable([[1.0, 2.0, 3.0], [4.0, 5.0, 6.0]])\n",
        "  b = tf.constant([[1.0, 2.0], [3.0, 4.0], [5.0, 6.0]])\n",
        "  c = tf.matmul(a, b)\n",
        "\n",
        "print(c)"
      ],
      "metadata": {
        "colab": {
          "base_uri": "https://localhost:8080/"
        },
        "id": "a2TRUZZWICRF",
        "outputId": "b7ac1aa5-b53b-488c-8e89-bc6e84a076fe"
      },
      "execution_count": 15,
      "outputs": [
        {
          "output_type": "stream",
          "name": "stdout",
          "text": [
            "tf.Tensor(\n",
            "[[22. 28.]\n",
            " [49. 64.]], shape=(2, 2), dtype=float32)\n"
          ]
        }
      ]
    },
    {
      "cell_type": "markdown",
      "source": [
        "한 기기에서 변수 또는 텐서의 위치를 설정하고 다른 기기에서 계산을 수행할 수 있다. 이 경우, 기기 간에 데이터를 복사해야 하므로 지연이 발생한다.\n",
        "\n",
        "GPU 작업자가 여러 개이지만 변수의 사본이 하나만 필요한 경우에 수행할 수 있다."
      ],
      "metadata": {
        "id": "TyZu9HWaJ8Op"
      }
    },
    {
      "cell_type": "code",
      "source": [
        "with tf.device('CPU:0'):\n",
        "  a = tf.Variable([[1.0, 2.0, 3.0], [4.0, 5.0, 6.0]])\n",
        "  b = tf.Variable([[1.0, 2.0, 3.0]])\n",
        "\n",
        "with tf.device('GPU:0'):\n",
        "  # Element-wise multiply\n",
        "  k = a * b\n",
        "\n",
        "print(k)"
      ],
      "metadata": {
        "colab": {
          "base_uri": "https://localhost:8080/"
        },
        "id": "I4ADbNZ4Js-A",
        "outputId": "86b8cf5f-3107-4800-cb2f-205be283f186"
      },
      "execution_count": 16,
      "outputs": [
        {
          "output_type": "stream",
          "name": "stdout",
          "text": [
            "tf.Tensor(\n",
            "[[ 1.  4.  9.]\n",
            " [ 4. 10. 18.]], shape=(2, 3), dtype=float32)\n"
          ]
        }
      ]
    },
    {
      "cell_type": "markdown",
      "source": [
        "참고: tf.config.set_soft_device_placement 는 기본적으로 켜져 있기 때문에 GPU가 없는 기기에서 이 코드를 실행하더라도 코드는 계속 실행되고 곱셈 단계는 CPU에서 발생한다.\n",
        "\n",
        "분산 훈련에 대한 자세한 내용은 [가이드](https://www.tensorflow.org/guide/distributed_training?authuser=1)를 참조하세요."
      ],
      "metadata": {
        "id": "THf3-ITyKdmp"
      }
    },
    {
      "cell_type": "markdown",
      "source": [
        "# 다음 단계(Next steps)\n",
        "\n",
        "변수가 일반적으로 사용되는 방식을 이해하려면 [자동 차별화](https://www.tensorflow.org/guide/autodiff?authuser=1)에 대한 가이드를 참조하길"
      ],
      "metadata": {
        "id": "DK9ifQDLLD3d"
      }
    }
  ]
}