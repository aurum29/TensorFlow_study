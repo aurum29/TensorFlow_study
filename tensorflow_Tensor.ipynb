{
  "nbformat": 4,
  "nbformat_minor": 0,
  "metadata": {
    "colab": {
      "name": "tensorflow_Tensor.ipynb",
      "provenance": [],
      "collapsed_sections": [],
      "toc_visible": true,
      "authorship_tag": "ABX9TyOpE2GNWr2kSD8IfFBwJKmA",
      "include_colab_link": true
    },
    "kernelspec": {
      "name": "python3",
      "display_name": "Python 3"
    },
    "language_info": {
      "name": "python"
    }
  },
  "cells": [
    {
      "cell_type": "markdown",
      "metadata": {
        "id": "view-in-github",
        "colab_type": "text"
      },
      "source": [
        "<a href=\"https://colab.research.google.com/github/zombe962/TensorFlow_study/blob/main/tensorflow_Tensor.ipynb\" target=\"_parent\"><img src=\"https://colab.research.google.com/assets/colab-badge.svg\" alt=\"Open In Colab\"/></a>"
      ]
    },
    {
      "cell_type": "markdown",
      "source": [
        "#TensorFlow 학습 - 텐서\n",
        "\n",
        "2022.02.28\n",
        "\n",
        "https://www.tensorflow.org/guide/tensor"
      ],
      "metadata": {
        "id": "Qfg2yjoqjTvj"
      }
    },
    {
      "cell_type": "code",
      "execution_count": 2,
      "metadata": {
        "id": "SluiM0nRjFRd"
      },
      "outputs": [],
      "source": [
        "import tensorflow as tf \n",
        "import numpy as np"
      ]
    },
    {
      "cell_type": "markdown",
      "source": [
        "텐서는 일관된 유형(dtype)을 가진 다차원 배열이다.\n",
        "\n",
        "일종의 Numpy의 np.arrays와 텐서와 같다고 생각할 수 있다.\n",
        "\n",
        "모든 텐서의 내용은 업데이트할 수 없으며, 새로운 텐서를 만들 수만 있음"
      ],
      "metadata": {
        "id": "d9n6jBC0jdo_"
      }
    },
    {
      "cell_type": "markdown",
      "source": [
        "# 기초(Basics)\n",
        "\n"
      ],
      "metadata": {
        "id": "5IgkUQWpsEhl"
      }
    },
    {
      "cell_type": "code",
      "source": [
        "rank_0_tensor = tf.constant(4)                # 'scalar' or 'rank-0' tensor\n",
        "rank_1_tensor = tf.constant([2.0, 3.0, 4.0])  # 'vector' or 'rank-1' tensor\n",
        "rank_2_tensor = tf.constant([[1, 2],          # 'matrix' or 'rank-2' tensor\n",
        "                             [3, 4],\n",
        "                             [5, 6],], dtype=tf.float16)  # set dtype\n",
        "print(rank_0_tensor)\n",
        "print(rank_1_tensor)\n",
        "print(rank_2_tensor)"
      ],
      "metadata": {
        "colab": {
          "base_uri": "https://localhost:8080/"
        },
        "id": "sIwwHmAwj1nW",
        "outputId": "05f97493-1e25-4e75-8233-243c4860fc78"
      },
      "execution_count": 3,
      "outputs": [
        {
          "output_type": "stream",
          "name": "stdout",
          "text": [
            "tf.Tensor(4, shape=(), dtype=int32)\n",
            "tf.Tensor([2. 3. 4.], shape=(3,), dtype=float32)\n",
            "tf.Tensor(\n",
            "[[1. 2.]\n",
            " [3. 4.]\n",
            " [5. 6.]], shape=(3, 2), dtype=float16)\n"
          ]
        }
      ]
    },
    {
      "cell_type": "code",
      "source": [
        "# There can be an arbitrary number of axes (sometimes called \"dimensions\")\n",
        "rank_3_tensor = tf.constant([\n",
        "  [[0, 1, 2, 3, 4],\n",
        "   [5, 6, 7, 8, 9]],\n",
        "  [[10, 11, 12, 13, 14],\n",
        "   [15, 16, 17, 18, 19]],\n",
        "  [[20, 21, 22, 23, 24],\n",
        "   [25, 26, 27, 28, 29]],])\n",
        "print(rank_3_tensor)"
      ],
      "metadata": {
        "colab": {
          "base_uri": "https://localhost:8080/"
        },
        "id": "f2TaUj3PlHUz",
        "outputId": "f1ee5d05-b7b2-460c-f595-57cd48ea115f"
      },
      "execution_count": 4,
      "outputs": [
        {
          "output_type": "stream",
          "name": "stdout",
          "text": [
            "tf.Tensor(\n",
            "[[[ 0  1  2  3  4]\n",
            "  [ 5  6  7  8  9]]\n",
            "\n",
            " [[10 11 12 13 14]\n",
            "  [15 16 17 18 19]]\n",
            "\n",
            " [[20 21 22 23 24]\n",
            "  [25 26 27 28 29]]], shape=(3, 2, 5), dtype=int32)\n"
          ]
        }
      ]
    },
    {
      "cell_type": "markdown",
      "source": [
        "We can transform Tensor to NumPy Array using 'np.array' or 'tensor.numpy' method"
      ],
      "metadata": {
        "id": "1p3_3Q2ol7GU"
      }
    },
    {
      "cell_type": "code",
      "source": [
        "print(np.array(rank_2_tensor))\n",
        "print(type(np.array(rank_2_tensor)))"
      ],
      "metadata": {
        "colab": {
          "base_uri": "https://localhost:8080/"
        },
        "id": "cFO0SdL7l1f3",
        "outputId": "4ff4242b-1bd7-49f9-f551-242d47c540a0"
      },
      "execution_count": 5,
      "outputs": [
        {
          "output_type": "stream",
          "name": "stdout",
          "text": [
            "[[1. 2.]\n",
            " [3. 4.]\n",
            " [5. 6.]]\n",
            "<class 'numpy.ndarray'>\n"
          ]
        }
      ]
    },
    {
      "cell_type": "code",
      "source": [
        "print(rank_2_tensor.numpy())\n",
        "print(type(rank_2_tensor.numpy()))"
      ],
      "metadata": {
        "colab": {
          "base_uri": "https://localhost:8080/"
        },
        "id": "T5MgmxWzmuXn",
        "outputId": "64d5af43-f7e1-4098-d2cf-fca7bc99c734"
      },
      "execution_count": 6,
      "outputs": [
        {
          "output_type": "stream",
          "name": "stdout",
          "text": [
            "[[1. 2.]\n",
            " [3. 4.]\n",
            " [5. 6.]]\n",
            "<class 'numpy.ndarray'>\n"
          ]
        }
      ]
    },
    {
      "cell_type": "markdown",
      "source": [
        "텐서에는 '복소수'와 '문자열'와 같은 유형도 있다.\n",
        "\n",
        "\n",
        "기본 tf.Tensor 클래스에서는 텐서가 \"직사각형\"이어야한다. 하지만, 비정형(RaggedTensor) 또는 희소(SparseTensor)가 사용됌"
      ],
      "metadata": {
        "id": "dhc4qTMUnJFC"
      }
    },
    {
      "cell_type": "markdown",
      "source": [
        "## 기본 산술"
      ],
      "metadata": {
        "id": "iMDJe-f7rXVZ"
      }
    },
    {
      "cell_type": "code",
      "source": [
        "a = tf.constant([[1, 2],\n",
        "                 [3, 4]])\n",
        "b = tf.constant([[1, 1],\n",
        "                 [1, 1]]) # or 'tf.ones([2,2])'\n",
        "\n",
        "print(tf.add(a, b), \"\\n\")        \n",
        "print(tf.multiply(a, b), \"\\n\")\n",
        "print(tf.matmul(a, b), \"\\n\")\n",
        "print(\"\\n\\n\\n\")\n",
        "\n",
        "\n",
        "print(a + b, \"\\n\")\n",
        "print(a * b, \"\\n\")\n",
        "print(a @ b, \"\\n\")"
      ],
      "metadata": {
        "colab": {
          "base_uri": "https://localhost:8080/"
        },
        "id": "dEnIGI9koONG",
        "outputId": "23f6f86d-c2ae-4f92-bd8d-7fdd0268f9df"
      },
      "execution_count": 7,
      "outputs": [
        {
          "output_type": "stream",
          "name": "stdout",
          "text": [
            "tf.Tensor(\n",
            "[[2 3]\n",
            " [4 5]], shape=(2, 2), dtype=int32) \n",
            "\n",
            "tf.Tensor(\n",
            "[[1 2]\n",
            " [3 4]], shape=(2, 2), dtype=int32) \n",
            "\n",
            "tf.Tensor(\n",
            "[[3 3]\n",
            " [7 7]], shape=(2, 2), dtype=int32) \n",
            "\n",
            "\n",
            "\n",
            "\n",
            "\n",
            "tf.Tensor(\n",
            "[[2 3]\n",
            " [4 5]], shape=(2, 2), dtype=int32) \n",
            "\n",
            "tf.Tensor(\n",
            "[[1 2]\n",
            " [3 4]], shape=(2, 2), dtype=int32) \n",
            "\n",
            "tf.Tensor(\n",
            "[[3 3]\n",
            " [7 7]], shape=(2, 2), dtype=int32) \n",
            "\n"
          ]
        }
      ]
    },
    {
      "cell_type": "code",
      "source": [
        "c = tf.constant([[4.0, 5.0], [10.0, 1.0]])\n",
        "\n",
        "# Find the largest value\n",
        "print(tf.reduce_max(c))\n",
        "# Find the index of the largest value\n",
        "print(tf.argmax(c))\n",
        "# Compute the softmax\n",
        "print(tf.nn.softmax(c))"
      ],
      "metadata": {
        "id": "E_fSMsqXpZAj",
        "colab": {
          "base_uri": "https://localhost:8080/"
        },
        "outputId": "3db3afa8-41c1-436d-b8c4-b80087d066ad"
      },
      "execution_count": 8,
      "outputs": [
        {
          "output_type": "stream",
          "name": "stdout",
          "text": [
            "tf.Tensor(10.0, shape=(), dtype=float32)\n",
            "tf.Tensor([1 0], shape=(2,), dtype=int64)\n",
            "tf.Tensor(\n",
            "[[2.6894143e-01 7.3105860e-01]\n",
            " [9.9987662e-01 1.2339458e-04]], shape=(2, 2), dtype=float32)\n"
          ]
        }
      ]
    },
    {
      "cell_type": "markdown",
      "source": [
        "# 형상 정보(About shapes)\n",
        "텐서는 shapes가 있다.\n",
        "용어\n",
        "\n",
        "*   **Shape** : 텐서의 각 차원의 길이(요소의 수)\n",
        "*   **Rank** : 텐서 축의 수, 스칼라는 rank 0, 벡터는 rank 1, 행렬은 rank 2\n",
        "*   **Axis** 또는 **Dimension** : 텐서의 특정 차원\n",
        "*   **Size** : 텐서의 총 항목 수, shape vector의 내적\n",
        "\n",
        "\n"
      ],
      "metadata": {
        "id": "KJHJn1WirqrB"
      }
    },
    {
      "cell_type": "code",
      "source": [
        "rank_4_tensor = tf.zeros([3, 2, 4, 5])\n",
        "\n",
        "print(\"Type of every element:\", rank_4_tensor.dtype)\n",
        "print(\"Number of axes:\", rank_4_tensor.ndim)\n",
        "print(\"Shape of tensor:\", rank_4_tensor.shape)\n",
        "print(\"Elements along axis 0 of tensor:\", rank_4_tensor.shape[0])\n",
        "print(\"Elements along the last axis of tensor:\", rank_4_tensor.shape[-1])\n",
        "print(\"Total number of elements (3*2*4*5):\", tf.size(rank_4_tensor).numpy())"
      ],
      "metadata": {
        "colab": {
          "base_uri": "https://localhost:8080/"
        },
        "id": "e-19ZRMHp5FD",
        "outputId": "4eac3328-f486-40ab-952a-e34854272f0c"
      },
      "execution_count": 9,
      "outputs": [
        {
          "output_type": "stream",
          "name": "stdout",
          "text": [
            "Type of every element: <dtype: 'float32'>\n",
            "Number of axes: 4\n",
            "Shape of tensor: (3, 2, 4, 5)\n",
            "Elements along axis 0 of tensor: 3\n",
            "Elements along the last axis of tensor: 5\n",
            "Total number of elements (3*2*4*5): 120\n"
          ]
        }
      ]
    },
    {
      "cell_type": "markdown",
      "source": [
        "항상 각 축의 의미를 추적해야한다.\n",
        "\n",
        "배치 축이 먼저 오고 그 다음에 공간 차원과 각 위치의 특성이 마지막에 온다."
      ],
      "metadata": {
        "id": "-dJiEGNQufvy"
      }
    },
    {
      "cell_type": "markdown",
      "source": [
        "일반적인 축의 순서는 이렇다.\n",
        "\n",
        "![shape2.png](data:image/png;base64,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)"
      ],
      "metadata": {
        "id": "l0euDe_vvL1D"
      }
    },
    {
      "cell_type": "markdown",
      "source": [
        "# 인덱싱(indexing)\n",
        "\n",
        "TensorFlow는 파이썬의 목록 또는 문자열 인덱싱과 마찬가지로 표준 파이썬 인덱싱 규칙과 numpy 인덱싱의 기본 규칙을 따른다.\n",
        "\n",
        "[tensor slicing guide](https://www.tensorflow.org/guide/tensor_slicing)"
      ],
      "metadata": {
        "id": "tZJxnh5bvaOL"
      }
    },
    {
      "cell_type": "markdown",
      "source": [
        "# 형상 조작하기(Manipulating Shapes)\n",
        "\n",
        "텐서의 shape를 바꾸는 것은 매우 유용하다."
      ],
      "metadata": {
        "id": "N97OnFo2QWD_"
      }
    },
    {
      "cell_type": "code",
      "source": [
        "# Shape returns a 'TensorShape' object that shows the size on each dimension\n",
        "var_x = tf.Variable(tf.constant([[1],[2],[3]]))\n",
        "print(var_x.shape)"
      ],
      "metadata": {
        "colab": {
          "base_uri": "https://localhost:8080/"
        },
        "id": "QT_rCrtuQZ2j",
        "outputId": "8046360f-fe47-4e8c-8e04-0712bdd27c20"
      },
      "execution_count": 10,
      "outputs": [
        {
          "output_type": "stream",
          "name": "stdout",
          "text": [
            "(3, 1)\n"
          ]
        }
      ]
    },
    {
      "cell_type": "code",
      "source": [
        "# You can convert this object into a Python list, too\n",
        "print(var_x.shape.as_list())"
      ],
      "metadata": {
        "colab": {
          "base_uri": "https://localhost:8080/"
        },
        "id": "WHYB4rQAQyMC",
        "outputId": "ddd3839a-318b-4ac5-beef-2c444f0a8c94"
      },
      "execution_count": 12,
      "outputs": [
        {
          "output_type": "stream",
          "name": "stdout",
          "text": [
            "[3, 1]\n"
          ]
        }
      ]
    },
    {
      "cell_type": "code",
      "source": [
        "# We can reshape a tensor to a new shape.\n",
        "# Note that we're passing in a list\n",
        "reshaped = tf.reshape(var_x, [1, 3])\n",
        "print(var_x.shape)\n",
        "print(reshaped.shape,\"\\n\")\n",
        "print(var_x,\"\\n\")\n",
        "print(reshaped)"
      ],
      "metadata": {
        "colab": {
          "base_uri": "https://localhost:8080/"
        },
        "id": "Nxxt4Af0RE7G",
        "outputId": "d63d0eee-8ee4-49f9-c152-60eb79194f76"
      },
      "execution_count": 16,
      "outputs": [
        {
          "output_type": "stream",
          "name": "stdout",
          "text": [
            "(3, 1)\n",
            "(1, 3) \n",
            "\n",
            "<tf.Variable 'Variable:0' shape=(3, 1) dtype=int32, numpy=\n",
            "array([[1],\n",
            "       [2],\n",
            "       [3]], dtype=int32)> \n",
            "\n",
            "tf.Tensor([[1 2 3]], shape=(1, 3), dtype=int32)\n"
          ]
        }
      ]
    },
    {
      "cell_type": "markdown",
      "source": [
        "데이텅릐 레이아웃은 메모리에서 유지되고 요청된 형상이 같은 데이터를 가리키는 새 텐서가 작성된다. 그래서 TensorFlow는 C 스타일 \"행 중심\" 메모리 순서를 사용한다. 여기에서 가장 오른쪽에 있는 인덱스를 증가시키면 메모리의 단일 단계에 해당한다.\n",
        "\n",
        "텐서를 평평하게 하면 어떤 순서로 메모리에 배치되어 있는지 확인할 수 있다."
      ],
      "metadata": {
        "id": "IJVWSSCMSSLH"
      }
    },
    {
      "cell_type": "code",
      "source": [
        "print(rank_3_tensor,\"\\n\\n\")\n",
        "\n",
        "# A '-1' passed in the 'shape' argument says \"Whatever fits\"\n",
        "print(tf.reshape(rank_3_tensor, [-1]))"
      ],
      "metadata": {
        "colab": {
          "base_uri": "https://localhost:8080/"
        },
        "id": "1SoI4wJhRTzo",
        "outputId": "6e90c92c-084a-4371-bc84-431272b8ad3a"
      },
      "execution_count": 17,
      "outputs": [
        {
          "output_type": "stream",
          "name": "stdout",
          "text": [
            "tf.Tensor(\n",
            "[[[ 0  1  2  3  4]\n",
            "  [ 5  6  7  8  9]]\n",
            "\n",
            " [[10 11 12 13 14]\n",
            "  [15 16 17 18 19]]\n",
            "\n",
            " [[20 21 22 23 24]\n",
            "  [25 26 27 28 29]]], shape=(3, 2, 5), dtype=int32) \n",
            "\n",
            "tf.Tensor(\n",
            "[ 0  1  2  3  4  5  6  7  8  9 10 11 12 13 14 15 16 17 18 19 20 21 22 23\n",
            " 24 25 26 27 28 29], shape=(30,), dtype=int32)\n"
          ]
        }
      ]
    },
    {
      "cell_type": "markdown",
      "source": [
        "일반적으로, tf.reshape의 합리적인 용도는 인접한 축을 결합하거나 분할하는  것뿐이다.\n",
        "\n",
        "rank_3_tensor, 3x2x5 텐서의 경우, 슬라이스가 혼합되지 않으므로 (3x2)x5 또는 3x(2x5)로 재구성하는 것이 합리적이다."
      ],
      "metadata": {
        "id": "-_wqGxBITjHt"
      }
    },
    {
      "cell_type": "code",
      "source": [
        "print(tf.reshape(rank_3_tensor, [3*2, 5]), \"\\n\")\n",
        "print(tf.reshape(rank_3_tensor, [3, -1]))"
      ],
      "metadata": {
        "colab": {
          "base_uri": "https://localhost:8080/"
        },
        "id": "t3UtDqdCSO3R",
        "outputId": "4c80326f-1b37-4d02-9750-489073625d20"
      },
      "execution_count": 18,
      "outputs": [
        {
          "output_type": "stream",
          "name": "stdout",
          "text": [
            "tf.Tensor(\n",
            "[[ 0  1  2  3  4]\n",
            " [ 5  6  7  8  9]\n",
            " [10 11 12 13 14]\n",
            " [15 16 17 18 19]\n",
            " [20 21 22 23 24]\n",
            " [25 26 27 28 29]], shape=(6, 5), dtype=int32) \n",
            "\n",
            "tf.Tensor(\n",
            "[[ 0  1  2  3  4  5  6  7  8  9]\n",
            " [10 11 12 13 14 15 16 17 18 19]\n",
            " [20 21 22 23 24 25 26 27 28 29]], shape=(3, 10), dtype=int32)\n"
          ]
        }
      ]
    },
    {
      "cell_type": "markdown",
      "source": [
        "reshape 전\n",
        "\n",
        "\n",
        "![reshape-before.png](data:image/png;base64,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)\n",
        "\n",
        "\n",
        "reshpae 후\n",
        "\n",
        "\n",
        "![reshape-good1.png](data:image/png;base64,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)\n",
        "\n",
        "![reshape-good2.png](data:image/png;base64,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)"
      ],
      "metadata": {
        "id": "a7Wps2dIUa63"
      }
    },
    {
      "cell_type": "markdown",
      "source": [
        "# DTypes에 대한 추가 정보(More on DTypes)\n",
        "\n",
        "텐서의 dtype을 알기 위해서 tensor.dtype 사용\n",
        "\n",
        "python 객체에서 텐서를 만들 때 선택적으로 데이터 유형을 지정할 수 있다.\n",
        "\n",
        "default로 지정된 텐서의 dtype은 정수일 경우 tf.int32, 실수 일 경우 tf.float32로 변환함.  "
      ],
      "metadata": {
        "id": "zPiWifSAVZzu"
      }
    },
    {
      "cell_type": "code",
      "source": [
        "the_f64_tensor = tf.constant([2.2, 3.3, 4.4], dtype=tf.float64)\n",
        "the_f16_tensor = tf.cast(the_f64_tensor, dtype=tf.float16)\n",
        "# Now. let's cast to an uint8 and lose the decimal precision\n",
        "the_u8_tensor = tf.cast(the_f16_tensor, dtype=tf.uint8)\n",
        "print(the_u8_tensor)"
      ],
      "metadata": {
        "colab": {
          "base_uri": "https://localhost:8080/"
        },
        "id": "tvVjpWoSUPPS",
        "outputId": "999042a2-a987-4dc8-e67d-fde084080e0c"
      },
      "execution_count": 19,
      "outputs": [
        {
          "output_type": "stream",
          "name": "stdout",
          "text": [
            "tf.Tensor([2 3 4], shape=(3,), dtype=uint8)\n"
          ]
        }
      ]
    },
    {
      "cell_type": "markdown",
      "source": [
        "# 브로드캐스팅(Broadcasting)\n",
        "\n",
        "브로드캐스팅은 [NumPy의 특성](https://numpy.org/doc/stable/user/basics.html)에서 빌린 개념이다. 특정 조건에서 작은 텐서는 결합된 연산을 실행할 때 더 큰 텐서에 맞게 자동으로 \"확장(streched)\"된다.\n",
        "\n",
        "가장 간단하고 가장 일반적인 경우는 스칼라에 텐서를 곱하거나 추가하려고 할 때이다. 이 경우, 스칼라는 다른 인수와 같은 형상으로 브로드캐스트된다."
      ],
      "metadata": {
        "id": "VVp5KYFRYW60"
      }
    },
    {
      "cell_type": "code",
      "source": [
        "x = tf.constant([1, 2, 3])\n",
        "y = tf.constant(2)\n",
        "z = tf.constant([2, 2, 2])\n",
        "# All of these are the same computation\n",
        "print(tf.multiply(x, 2))\n",
        "print(x * y)\n",
        "print(x * z)\n",
        "print('\\n\\n')"
      ],
      "metadata": {
        "colab": {
          "base_uri": "https://localhost:8080/"
        },
        "id": "FnoHv2lpYRjn",
        "outputId": "71b97156-df5f-463b-ab2a-064c17f3c51c"
      },
      "execution_count": 20,
      "outputs": [
        {
          "output_type": "stream",
          "name": "stdout",
          "text": [
            "tf.Tensor([2 4 6], shape=(3,), dtype=int32)\n",
            "tf.Tensor([2 4 6], shape=(3,), dtype=int32)\n",
            "tf.Tensor([2 4 6], shape=(3,), dtype=int32)\n"
          ]
        }
      ]
    },
    {
      "cell_type": "code",
      "source": [
        "# These are the same computations\n",
        "x = tf.reshape(x, [3,1])\n",
        "y = tf.range(1, 5)\n",
        "print(x, '\\n')\n",
        "print(y, '\\n')\n",
        "print(tf.multiply(x, y))\n",
        "print('\\n\\n')\n",
        "\n",
        "\n",
        "# Here is the same operation without broadcasting\n",
        "x_stretch = tf.constant([[1, 1, 1, 1],\n",
        "                         [2, 2, 2, 2],\n",
        "                         [3, 3, 3, 3]])\n",
        "\n",
        "y_stretch = tf.constant([[1, 2, 3, 4],\n",
        "                         [1, 2, 3, 4],\n",
        "                         [1, 2, 3, 4]])\n",
        "\n",
        "print(x_stretch * y_stretch)  # Again, operator overloading"
      ],
      "metadata": {
        "colab": {
          "base_uri": "https://localhost:8080/"
        },
        "id": "TvkAlemQZxX0",
        "outputId": "7daf3248-b72b-41f9-92dd-04486623f11b"
      },
      "execution_count": 21,
      "outputs": [
        {
          "output_type": "stream",
          "name": "stdout",
          "text": [
            "tf.Tensor(\n",
            "[[1]\n",
            " [2]\n",
            " [3]], shape=(3, 1), dtype=int32) \n",
            "\n",
            "tf.Tensor([1 2 3 4], shape=(4,), dtype=int32) \n",
            "\n",
            "tf.Tensor(\n",
            "[[ 1  2  3  4]\n",
            " [ 2  4  6  8]\n",
            " [ 3  6  9 12]], shape=(3, 4), dtype=int32)\n",
            "\n",
            "\n",
            "\n",
            "tf.Tensor(\n",
            "[[ 1  2  3  4]\n",
            " [ 2  4  6  8]\n",
            " [ 3  6  9 12]], shape=(3, 4), dtype=int32)\n"
          ]
        }
      ]
    },
    {
      "cell_type": "markdown",
      "source": [
        "대부분의 경우 브로드캐스팅은 브로드캐스트 연산으로 메모리에서 확장된 텐서를 구체화하지 않으므로 시간과 공간이 효율적이다."
      ],
      "metadata": {
        "id": "o8VNs9A_a8LA"
      }
    },
    {
      "cell_type": "markdown",
      "source": [
        "tf.broadcast_to 를 사용하여 브로드캐스팅이 어떤 모습인지 알 수 있다."
      ],
      "metadata": {
        "id": "7eHxXufza6Yq"
      }
    },
    {
      "cell_type": "code",
      "source": [
        "print(tf.broadcast_to(tf.constant([1, 2, 3]), [3, 3]))"
      ],
      "metadata": {
        "colab": {
          "base_uri": "https://localhost:8080/"
        },
        "id": "45Fvg-kxaqJx",
        "outputId": "cd16f38e-b1bd-437b-e9df-c4e4337a1023"
      },
      "execution_count": 22,
      "outputs": [
        {
          "output_type": "stream",
          "name": "stdout",
          "text": [
            "tf.Tensor(\n",
            "[[1 2 3]\n",
            " [1 2 3]\n",
            " [1 2 3]], shape=(3, 3), dtype=int32)\n"
          ]
        }
      ]
    },
    {
      "cell_type": "markdown",
      "source": [
        "더 자세한 브로드캐스팅은 [여기](https://jakevdp.github.io/PythonDataScienceHandbook/02.05-computation-on-arrays-broadcasting.html)에서 더 확인할 수 있다.(Numpy에서)"
      ],
      "metadata": {
        "id": "ahwkSgKebeRD"
      }
    },
    {
      "cell_type": "markdown",
      "source": [
        "# 비정형 텐서(Ragged Tensors)\n",
        "\n",
        "어떤 축에 따라 다양한 수의 요소를 가진 텐서를 \"비정형(ragged)\"라고 한다. 비정형 데이터에는 tf.ragged.RaggedTensor 를 사용한다.\n",
        "\n",
        "다시 말해, 비정형 텐서는 정규 텐서로 표현할 수 없다.\n",
        "\n",
        "\n",
        "\n",
        "```\n",
        "A tf.RaggedTensor, shape: [4, None]\n",
        "```\n",
        "\n",
        "\n",
        "![ragged.png](data:image/png;base64,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)\n"
      ],
      "metadata": {
        "id": "e_EZwLpjbtBl"
      }
    },
    {
      "cell_type": "code",
      "source": [
        "ragged_list = [\n",
        "  [0, 1, 2, 3],\n",
        "  [4, 5],\n",
        "  [6, 7, 8],\n",
        "  [9]]"
      ],
      "metadata": {
        "id": "BE6n8WAibd6d"
      },
      "execution_count": 23,
      "outputs": []
    },
    {
      "cell_type": "code",
      "source": [
        "try:\n",
        "  tensor = tf.constant(ragged_list)\n",
        "except Exception as e:\n",
        "  print(f\"{type(e).__name__}: {e}\")"
      ],
      "metadata": {
        "colab": {
          "base_uri": "https://localhost:8080/"
        },
        "id": "PT5yQPIea1S8",
        "outputId": "20c63297-191e-4843-8a8b-6e03fc37e6bd"
      },
      "execution_count": 25,
      "outputs": [
        {
          "output_type": "stream",
          "name": "stdout",
          "text": [
            "ValueError: Can't convert non-rectangular Python sequence to Tensor.\n"
          ]
        }
      ]
    },
    {
      "cell_type": "code",
      "source": [
        "ragged_tensor = tf.ragged.constant(ragged_list)\n",
        "print(ragged_tensor)"
      ],
      "metadata": {
        "colab": {
          "base_uri": "https://localhost:8080/"
        },
        "id": "2RHXWaVwf3Zf",
        "outputId": "85c483fd-1614-402c-86c4-e4c60fff9316"
      },
      "execution_count": 26,
      "outputs": [
        {
          "output_type": "stream",
          "name": "stdout",
          "text": [
            "<tf.RaggedTensor [[0, 1, 2, 3], [4, 5], [6, 7, 8], [9]]>\n"
          ]
        }
      ]
    },
    {
      "cell_type": "markdown",
      "source": [
        "tf.RaggedTensor 의 형상에는 알 수 없는 길이의 일부 축이 포함된다."
      ],
      "metadata": {
        "id": "JnQlwE6Qg3sA"
      }
    },
    {
      "cell_type": "code",
      "source": [
        "print(ragged_tensor.shape)"
      ],
      "metadata": {
        "colab": {
          "base_uri": "https://localhost:8080/"
        },
        "id": "a7k3j899gyK-",
        "outputId": "0a85a262-723a-4d14-974b-1554d263a9a1"
      },
      "execution_count": 27,
      "outputs": [
        {
          "output_type": "stream",
          "name": "stdout",
          "text": [
            "(4, None)\n"
          ]
        }
      ]
    },
    {
      "cell_type": "markdown",
      "source": [
        "# 문자열 텐서(String tensors)\n",
        "\n",
        "tf.string은 dtype이며,텐서에서 문자열(가변 길이의 바이트 배열)과 같은 데이터를 나타낼 수 있다.\n",
        "\n",
        "문자열은 원자성이므로 Python 문자열과 같은 방식으로 인덱싱할 수 없다. 문자열의 길이는 텐서의 축 중의 하나가 아니다. 문자열을 조작하는 함수에 대해서는 tf.string 을 참조하기를..\n",
        "\n",
        "다음은 스칼라 문자열 텐서이다."
      ],
      "metadata": {
        "id": "NNuYwREvjUJW"
      }
    },
    {
      "cell_type": "code",
      "source": [
        "# Tensors can be strings, too here is a scalar string.\n",
        "scalar_string_tensor = tf.constant(\"Gray wolf\")\n",
        "print(scalar_string_tensor)"
      ],
      "metadata": {
        "colab": {
          "base_uri": "https://localhost:8080/"
        },
        "id": "cOYtKb-kg1TJ",
        "outputId": "f85b76a7-1c29-434e-dd83-1df376018f8b"
      },
      "execution_count": 28,
      "outputs": [
        {
          "output_type": "stream",
          "name": "stdout",
          "text": [
            "tf.Tensor(b'Gray wolf', shape=(), dtype=string)\n"
          ]
        }
      ]
    },
    {
      "cell_type": "markdown",
      "source": [
        "문자열의 벡터,shape: [3,]\n",
        "\n",
        "\n",
        "![strings.png](data:image/png;base64,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)"
      ],
      "metadata": {
        "id": "DuS0jw4qlgQ5"
      }
    },
    {
      "cell_type": "code",
      "source": [
        "# If you have three string tensors of different lengths, this is OK.\n",
        "tensor_of_strings = tf.constant([\"Gray wolf\",\n",
        "                                 \"Quick brown fox\",\n",
        "                                 \"Lazy dog\"])\n",
        "# Note that the shape is (3,). The string length is not included.\n",
        "print(tensor_of_strings)"
      ],
      "metadata": {
        "colab": {
          "base_uri": "https://localhost:8080/"
        },
        "id": "2nlokH2Sj68J",
        "outputId": "07238b10-08f6-4cda-ddc0-856f9469fa68"
      },
      "execution_count": 29,
      "outputs": [
        {
          "output_type": "stream",
          "name": "stdout",
          "text": [
            "tf.Tensor([b'Gray wolf' b'Quick brown fox' b'Lazy dog'], shape=(3,), dtype=string)\n"
          ]
        }
      ]
    },
    {
      "cell_type": "markdown",
      "source": [
        "위의 출력에서 'b' 접두사는 tf.string dtype이 유니코드 문자열이 아니라 바이트 문자열임을 나타낸다. TensorFlow에서 유니코드 텍스트를 처리하는 자세한 내용은 [유니코드 튜토리얼](https://www.tensorflow.org/tutorials/load_data/unicode)을 참조하길\n",
        "\n",
        "유니코드 문자를 전달하면 UTF-8로 인코딩된다는 것을 알 수 있다."
      ],
      "metadata": {
        "id": "vkoS_xBymHvX"
      }
    },
    {
      "cell_type": "code",
      "source": [
        "tf.constant(\"🥳👍\")"
      ],
      "metadata": {
        "colab": {
          "base_uri": "https://localhost:8080/"
        },
        "id": "BKZhnG73l__H",
        "outputId": "6f80d007-c955-4e48-9d93-12b21aefc16b"
      },
      "execution_count": 30,
      "outputs": [
        {
          "output_type": "execute_result",
          "data": {
            "text/plain": [
              "<tf.Tensor: shape=(), dtype=string, numpy=b'\\xf0\\x9f\\xa5\\xb3\\xf0\\x9f\\x91\\x8d'>"
            ]
          },
          "metadata": {},
          "execution_count": 30
        }
      ]
    },
    {
      "cell_type": "markdown",
      "source": [
        "문자열이 있는 일부 기본 함수는 tf.strings을 포함하여 tf.strings.split 에서 찾을 수 있다."
      ],
      "metadata": {
        "id": "PTWBs9kampjB"
      }
    },
    {
      "cell_type": "code",
      "source": [
        "# We can use split to split a string into a set of tensors\n",
        "print(tf.strings.split(scalar_string_tensor, sep=\" \"))"
      ],
      "metadata": {
        "colab": {
          "base_uri": "https://localhost:8080/"
        },
        "id": "DvR3imvkmm4V",
        "outputId": "2cb58607-9ede-4ec6-e2e9-9857b6d19aeb"
      },
      "execution_count": 31,
      "outputs": [
        {
          "output_type": "stream",
          "name": "stdout",
          "text": [
            "tf.Tensor([b'Gray' b'wolf'], shape=(2,), dtype=string)\n"
          ]
        }
      ]
    },
    {
      "cell_type": "code",
      "source": [
        "# ...but it turns into a 'RaggedTensor' if you split up a tensor of strings,\n",
        "# as each string might be split into a different number of parts.\n",
        "print(tf.strings.split(tensor_of_strings))"
      ],
      "metadata": {
        "colab": {
          "base_uri": "https://localhost:8080/"
        },
        "id": "aB8PWxG9nEbn",
        "outputId": "36e5767c-bfa0-4f2e-a024-1393daa3a8d8"
      },
      "execution_count": 32,
      "outputs": [
        {
          "output_type": "stream",
          "name": "stdout",
          "text": [
            "<tf.RaggedTensor [[b'Gray', b'wolf'], [b'Quick', b'brown', b'fox'], [b'Lazy', b'dog']]>\n"
          ]
        }
      ]
    },
    {
      "cell_type": "markdown",
      "source": [
        "```\n",
        "Three strings split, shape: [3, None]\n",
        "```\n",
        "\n",
        "\n",
        "![string-split.png](data:image/png;base64,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)\n"
      ],
      "metadata": {
        "id": "XVZMZaJxne3H"
      }
    },
    {
      "cell_type": "code",
      "source": [
        "text = tf.constant(\"1 10 100\")\n",
        "print(tf.strings.to_number(tf.strings.split(text, \" \")))"
      ],
      "metadata": {
        "colab": {
          "base_uri": "https://localhost:8080/"
        },
        "id": "HN_EPttAnY6J",
        "outputId": "39e48ba5-07c2-42d3-e2fb-d81a41a5db38"
      },
      "execution_count": 33,
      "outputs": [
        {
          "output_type": "stream",
          "name": "stdout",
          "text": [
            "tf.Tensor([  1.  10. 100.], shape=(3,), dtype=float32)\n"
          ]
        }
      ]
    },
    {
      "cell_type": "markdown",
      "source": [
        "tf.cast 를 사용하여 문자열 텐서를 숫자로 변환할 수는 없지만, 바이트로 변환한 다음 숫자로 변환할 수 있다."
      ],
      "metadata": {
        "id": "ZUeRVOX7oM_A"
      }
    },
    {
      "cell_type": "code",
      "source": [
        "byte_strings = tf.strings.bytes_split(tf.constant(\"Duck\"))\n",
        "byte_ints = tf.io.decode_raw(tf.constant(\"Duck\"), tf.uint8)\n",
        "print(\"Byte strings:\", byte_strings)\n",
        "print(\"Bytes: \", byte_ints)"
      ],
      "metadata": {
        "colab": {
          "base_uri": "https://localhost:8080/"
        },
        "id": "zzqpdk-an560",
        "outputId": "2beb4065-e8eb-40d4-ea6d-7c2d3b432781"
      },
      "execution_count": 36,
      "outputs": [
        {
          "output_type": "stream",
          "name": "stdout",
          "text": [
            "Byte strings: tf.Tensor([b'D' b'u' b'c' b'k'], shape=(4,), dtype=string)\n",
            "Bytes:  tf.Tensor([ 68 117  99 107], shape=(4,), dtype=uint8)\n"
          ]
        }
      ]
    },
    {
      "cell_type": "code",
      "source": [
        "# Or split it up as unicode and then decode it\n",
        "unicode_bytes = tf.constant(\"アヒル 🦆\")\n",
        "unicode_char_bytes = tf.strings.unicode_split(unicode_bytes, \"UTF-8\")\n",
        "unicode_values = tf.strings.unicode_decode(unicode_bytes, \"UTF-8\")\n",
        "\n",
        "print(\"\\nUnicode bytes:\", unicode_bytes)\n",
        "print(\"\\nUnicode chars:\", unicode_char_bytes)\n",
        "print(\"\\nUnicode values:\", unicode_values)"
      ],
      "metadata": {
        "colab": {
          "base_uri": "https://localhost:8080/"
        },
        "id": "cG1VauR9omZf",
        "outputId": "c2a22f11-ced5-4a13-f7ff-8d1d60f70257"
      },
      "execution_count": 37,
      "outputs": [
        {
          "output_type": "stream",
          "name": "stdout",
          "text": [
            "\n",
            "Unicode bytes: tf.Tensor(b'\\xe3\\x82\\xa2\\xe3\\x83\\x92\\xe3\\x83\\xab \\xf0\\x9f\\xa6\\x86', shape=(), dtype=string)\n",
            "\n",
            "Unicode chars: tf.Tensor([b'\\xe3\\x82\\xa2' b'\\xe3\\x83\\x92' b'\\xe3\\x83\\xab' b' ' b'\\xf0\\x9f\\xa6\\x86'], shape=(5,), dtype=string)\n",
            "\n",
            "Unicode values: tf.Tensor([ 12450  12498  12523     32 129414], shape=(5,), dtype=int32)\n"
          ]
        }
      ]
    },
    {
      "cell_type": "markdown",
      "source": [
        "tf.string dtype은 TensorFlow의 모든 원시 바이트 데이터에 사용된다. tf.io 묘듈에는 이미지 디코딩 및 csv 구문 분석을 포함하여 데이터를 바이트로 변환하는 함수가 포함되어 있다."
      ],
      "metadata": {
        "id": "WnMVtlaJqRzY"
      }
    },
    {
      "cell_type": "markdown",
      "source": [
        "# 희소 텐서(Sparse tensors)\n",
        "\n",
        "때로는 매우 넓은 임베드 공간과 같이 데이터가 희소하다. TensorFlow는 tf.sparse.SparseTensor 및 관련 연산을 지원하여 희소 데이터를 효율적으로 저장한다.\n",
        "\n",
        "\n",
        "\n",
        "```\n",
        "A tf.SparseTensor, shape: [3, 4]\n",
        "```\n",
        "\n",
        "![sparse.png](data:image/png;base64,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)\n",
        "\n"
      ],
      "metadata": {
        "id": "y0q4CiZxqem8"
      }
    },
    {
      "cell_type": "code",
      "source": [
        "# Sparse tensors store values by index in a memory-efficient manner\n",
        "sparse_tensor = tf.sparse.SparseTensor(indices=[[0, 0], [1, 2]],\n",
        "                                       values=[1, 2],\n",
        "                                       dense_shape=[3, 4])\n",
        "print(sparse_tensor, \"\\n\")\n",
        "\n",
        "# You can convert sparse tensors to dense\n",
        "print(tf.sparse.to_dense(sparse_tensor))"
      ],
      "metadata": {
        "colab": {
          "base_uri": "https://localhost:8080/"
        },
        "id": "tawz-7lLqDHn",
        "outputId": "dc2cd710-2713-46e2-b13b-f077ce2a91b4"
      },
      "execution_count": 38,
      "outputs": [
        {
          "output_type": "stream",
          "name": "stdout",
          "text": [
            "SparseTensor(indices=tf.Tensor(\n",
            "[[0 0]\n",
            " [1 2]], shape=(2, 2), dtype=int64), values=tf.Tensor([1 2], shape=(2,), dtype=int32), dense_shape=tf.Tensor([3 4], shape=(2,), dtype=int64)) \n",
            "\n",
            "tf.Tensor(\n",
            "[[1 0 0 0]\n",
            " [0 0 2 0]\n",
            " [0 0 0 0]], shape=(3, 4), dtype=int32)\n"
          ]
        }
      ]
    }
  ]
}